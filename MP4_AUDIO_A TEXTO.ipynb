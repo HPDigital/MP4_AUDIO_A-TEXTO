{
 "cells": [
  {
   "cell_type": "code",
   "execution_count": 6,
   "id": "301472af-1c1e-4a14-b180-99c59211795e",
   "metadata": {},
   "outputs": [
    {
     "name": "stdout",
     "output_type": "stream",
     "text": [
      "MoviePy - Writing audio in temp_audio.wav\n"
     ]
    },
    {
     "name": "stderr",
     "output_type": "stream",
     "text": [
      "                                                                        \r"
     ]
    },
    {
     "name": "stdout",
     "output_type": "stream",
     "text": [
      "MoviePy - Done.\n",
      "No se pudo solicitar resultados desde Google Speech Recognition service; recognition request failed: Bad Request\n"
     ]
    }
   ],
   "source": [
    "from moviepy.editor import VideoFileClip\n",
    "import speech_recognition as sr\n",
    "\n",
    "# Paso 1: Extraer el audio del video y guardarlo como archivo WAV\n",
    "def extraer_audio(video_path):\n",
    "    video = VideoFileClip(video_path)\n",
    "    audio_path = \"temp_audio.wav\"  # Ruta y nombre del archivo de audio temporal\n",
    "    video.audio.write_audiofile(audio_path, codec='pcm_s16le')  # Especifica codec para formato WAV\n",
    "    video.close()\n",
    "    return audio_path\n",
    "\n",
    "# Paso 3: Transcribir el audio a texto\n",
    "def transcribir_audio(audio_path):\n",
    "    # Inicializar el reconocedor de voz\n",
    "    recognizer = sr.Recognizer()\n",
    "    # Cargar el archivo de audio\n",
    "    with sr.AudioFile(audio_path) as source:\n",
    "        audio_data = recognizer.record(source)\n",
    "    # Intentar reconocer el audio utilizando el reconocedor de Google\n",
    "    try:\n",
    "        text = recognizer.recognize_google(audio_data, language=\"es-ES\")  # Asumiendo español como idioma\n",
    "        return text\n",
    "    except sr.UnknownValueError:\n",
    "        return \"Google Speech Recognition no pudo entender el audio\"\n",
    "    except sr.RequestError as e:\n",
    "        return f\"No se pudo solicitar resultados desde Google Speech Recognition service; {e}\"\n",
    "\n",
    "# Ruta al video MP4\n",
    "video_path = \"C:\\\\Users\\\\HP\\\\Videos\\\\Movavi Screen Recorder\\\\VIDEO 1 ELEGIR EL TEMA.mp4\"\n",
    "\n",
    "# Ejecutar las funciones\n",
    "audio_path = extraer_audio(video_path)\n",
    "texto_transcrito = transcribir_audio(audio_path)\n",
    "print(texto_transcrito)\n",
    "\n"
   ]
  },
  {
   "cell_type": "code",
   "execution_count": null,
   "id": "82005bb2-6531-408b-a8c5-c5a40d03cc50",
   "metadata": {},
   "outputs": [],
   "source": []
  }
 ],
 "metadata": {
  "kernelspec": {
   "display_name": "Python 3 (ipykernel)",
   "language": "python",
   "name": "python3"
  },
  "language_info": {
   "codemirror_mode": {
    "name": "ipython",
    "version": 3
   },
   "file_extension": ".py",
   "mimetype": "text/x-python",
   "name": "python",
   "nbconvert_exporter": "python",
   "pygments_lexer": "ipython3",
   "version": "3.11.7"
  }
 },
 "nbformat": 4,
 "nbformat_minor": 5
}
